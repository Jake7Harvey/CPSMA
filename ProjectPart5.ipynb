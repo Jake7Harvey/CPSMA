{
  "nbformat": 4,
  "nbformat_minor": 0,
  "metadata": {
    "colab": {
      "provenance": [],
      "authorship_tag": "ABX9TyMYV4r2/w00M5frCV4P2gJ4",
      "include_colab_link": true
    },
    "kernelspec": {
      "name": "python3",
      "display_name": "Python 3"
    },
    "language_info": {
      "name": "python"
    }
  },
  "cells": [
    {
      "cell_type": "markdown",
      "metadata": {
        "id": "view-in-github",
        "colab_type": "text"
      },
      "source": [
        "<a href=\"https://colab.research.google.com/github/Jake7Harvey/CPSMA/blob/main/ProjectPart5.ipynb\" target=\"_parent\"><img src=\"https://colab.research.google.com/assets/colab-badge.svg\" alt=\"Open In Colab\"/></a>"
      ]
    },
    {
      "cell_type": "markdown",
      "source": [
        "#Project Module #5: CPSMA-3913-01\n",
        "##Dr Matthew Lynam\n",
        "###Structures\n",
        "###Jake Harvey 0273045"
      ],
      "metadata": {
        "id": "f2cSfOdfHEH8"
      }
    },
    {
      "cell_type": "markdown",
      "source": [
        "##1. Create graph, directed graph, weighted graph or tree."
      ],
      "metadata": {
        "id": "xb0PO85GH5Dl"
      }
    },
    {
      "cell_type": "markdown",
      "source": [
        "###(a) Create a structure with at least 5 vertices and 5 edges. Your structure should be based on something in your life and help tell that story. The structure you pick should be appropriate for the story you want to tell."
      ],
      "metadata": {
        "id": "eSQ3M_d-IDc3"
      }
    },
    {
      "cell_type": "markdown",
      "source": [
        "The story that I am going to tell is about baseball, and follows a certain order as to how we did our warmups before a game."
      ],
      "metadata": {
        "id": "4kSsh90HKmsb"
      }
    },
    {
      "cell_type": "markdown",
      "source": [
        "![#5.png](data:image/png;base64,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)"
      ],
      "metadata": {
        "id": "tEHLXRitMeIj"
      }
    },
    {
      "cell_type": "code",
      "source": [
        "import graphviz\n",
        "\n",
        "baseball = graphviz.Digraph('Baseball Warmups')\n",
        "\n",
        "baseball.node('Coach')\n",
        "\n",
        "baseball.edge('Coach', 'Right')\n",
        "baseball.edge('Right', 'Home')\n",
        "baseball.edge('Home', 'Coach')\n",
        "\n",
        "baseball.edge('Coach', 'Center')\n",
        "baseball.edge('Center', 'Home')\n",
        "baseball.edge('Home', 'Coach')\n",
        "\n",
        "baseball.edge('Coach', 'Left')\n",
        "baseball.edge('Left', 'Home')\n",
        "baseball.edge('Home', 'Coach')\n",
        "\n",
        "baseball.edge('Coach', 'First')\n",
        "baseball.edge('First', 'Home')\n",
        "baseball.edge('Home', 'Coach')\n",
        "\n",
        "baseball.edge('Coach', 'Second')\n",
        "baseball.edge('Second', 'Home')\n",
        "baseball.edge('Home', 'Coach')\n",
        "\n",
        "baseball.edge('Coach', 'Short')\n",
        "baseball.edge('Short', 'Home')\n",
        "baseball.edge('Home', 'Coach')\n",
        "\n",
        "baseball.edge('Coach', 'Third')\n",
        "baseball.edge('Third', 'Home')\n",
        "baseball.edge('Home', 'Coach')\n",
        "\n",
        "baseball.edge('Coach', 'Home')\n",
        "baseball.node('Home')\n",
        "\n",
        "\n",
        "\n",
        "baseball\n"
      ],
      "metadata": {
        "colab": {
          "base_uri": "https://localhost:8080/",
          "height": 272
        },
        "id": "jCB2mKOGMi_d",
        "outputId": "95fcd0b4-5648-41a3-c58f-f4872504b131"
      },
      "execution_count": 15,
      "outputs": [
        {
          "output_type": "execute_result",
          "data": {
            "text/plain": [
              "<graphviz.dot.Digraph at 0x7fd3fc4ba130>"
            ],
            "image/svg+xml": "<?xml version=\"1.0\" encoding=\"UTF-8\" standalone=\"no\"?>\n<!DOCTYPE svg PUBLIC \"-//W3C//DTD SVG 1.1//EN\"\n \"http://www.w3.org/Graphics/SVG/1.1/DTD/svg11.dtd\">\n<!-- Generated by graphviz version 2.43.0 (0)\n -->\n<!-- Title: Baseball Warmups Pages: 1 -->\n<svg width=\"710pt\" height=\"188pt\"\n viewBox=\"0.00 0.00 710.09 188.00\" xmlns=\"http://www.w3.org/2000/svg\" xmlns:xlink=\"http://www.w3.org/1999/xlink\">\n<g id=\"graph0\" class=\"graph\" transform=\"scale(1 1) rotate(0) translate(4 184)\">\n<title>Baseball Warmups</title>\n<polygon fill=\"white\" stroke=\"transparent\" points=\"-4,4 -4,-184 706.09,-184 706.09,4 -4,4\"/>\n<!-- Coach -->\n<g id=\"node1\" class=\"node\">\n<title>Coach</title>\n<ellipse fill=\"none\" stroke=\"black\" cx=\"152.55\" cy=\"-162\" rx=\"33.29\" ry=\"18\"/>\n<text text-anchor=\"middle\" x=\"152.55\" y=\"-158.3\" font-family=\"Times,serif\" font-size=\"14.00\">Coach</text>\n</g>\n<!-- Right -->\n<g id=\"node2\" class=\"node\">\n<title>Right</title>\n<ellipse fill=\"none\" stroke=\"black\" cx=\"30.55\" cy=\"-90\" rx=\"30.59\" ry=\"18\"/>\n<text text-anchor=\"middle\" x=\"30.55\" y=\"-86.3\" font-family=\"Times,serif\" font-size=\"14.00\">Right</text>\n</g>\n<!-- Coach&#45;&gt;Right -->\n<g id=\"edge1\" class=\"edge\">\n<title>Coach&#45;&gt;Right</title>\n<path fill=\"none\" stroke=\"black\" d=\"M130.45,-148.32C110.87,-137.09 82.09,-120.58 60.45,-108.16\"/>\n<polygon fill=\"black\" stroke=\"black\" points=\"62.08,-105.05 51.66,-103.11 58.59,-111.13 62.08,-105.05\"/>\n</g>\n<!-- Home -->\n<g id=\"node3\" class=\"node\">\n<title>Home</title>\n<ellipse fill=\"none\" stroke=\"black\" cx=\"152.55\" cy=\"-18\" rx=\"32.49\" ry=\"18\"/>\n<text text-anchor=\"middle\" x=\"152.55\" y=\"-14.3\" font-family=\"Times,serif\" font-size=\"14.00\">Home</text>\n</g>\n<!-- Coach&#45;&gt;Home -->\n<g id=\"edge22\" class=\"edge\">\n<title>Coach&#45;&gt;Home</title>\n<path fill=\"none\" stroke=\"black\" d=\"M126.13,-150.33C100.53,-126.04 98.52,-66.43 120.11,-36.6\"/>\n<polygon fill=\"black\" stroke=\"black\" points=\"122.81,-38.83 126.82,-29.03 117.57,-34.19 122.81,-38.83\"/>\n</g>\n<!-- Center -->\n<g id=\"node4\" class=\"node\">\n<title>Center</title>\n<ellipse fill=\"none\" stroke=\"black\" cx=\"277.55\" cy=\"-90\" rx=\"34.39\" ry=\"18\"/>\n<text text-anchor=\"middle\" x=\"277.55\" y=\"-86.3\" font-family=\"Times,serif\" font-size=\"14.00\">Center</text>\n</g>\n<!-- Coach&#45;&gt;Center -->\n<g id=\"edge4\" class=\"edge\">\n<title>Coach&#45;&gt;Center</title>\n<path fill=\"none\" stroke=\"black\" d=\"M174.89,-148.49C194.77,-137.36 224.04,-120.97 246.24,-108.53\"/>\n<polygon fill=\"black\" stroke=\"black\" points=\"247.96,-111.58 254.97,-103.64 244.54,-105.47 247.96,-111.58\"/>\n</g>\n<!-- Left -->\n<g id=\"node5\" class=\"node\">\n<title>Left</title>\n<ellipse fill=\"none\" stroke=\"black\" cx=\"356.55\" cy=\"-90\" rx=\"27\" ry=\"18\"/>\n<text text-anchor=\"middle\" x=\"356.55\" y=\"-86.3\" font-family=\"Times,serif\" font-size=\"14.00\">Left</text>\n</g>\n<!-- Coach&#45;&gt;Left -->\n<g id=\"edge7\" class=\"edge\">\n<title>Coach&#45;&gt;Left</title>\n<path fill=\"none\" stroke=\"black\" d=\"M181.5,-153.16C215.31,-143.71 272.71,-126.74 320.55,-108 322.38,-107.28 324.25,-106.51 326.13,-105.71\"/>\n<polygon fill=\"black\" stroke=\"black\" points=\"327.74,-108.83 335.44,-101.55 324.88,-102.44 327.74,-108.83\"/>\n</g>\n<!-- First -->\n<g id=\"node6\" class=\"node\">\n<title>First</title>\n<ellipse fill=\"none\" stroke=\"black\" cx=\"428.55\" cy=\"-90\" rx=\"27\" ry=\"18\"/>\n<text text-anchor=\"middle\" x=\"428.55\" y=\"-86.3\" font-family=\"Times,serif\" font-size=\"14.00\">First</text>\n</g>\n<!-- Coach&#45;&gt;First -->\n<g id=\"edge10\" class=\"edge\">\n<title>Coach&#45;&gt;First</title>\n<path fill=\"none\" stroke=\"black\" d=\"M184.23,-156.33C230.74,-148.95 319.87,-132.84 392.55,-108 394.46,-107.35 396.41,-106.62 398.35,-105.85\"/>\n<polygon fill=\"black\" stroke=\"black\" points=\"400.15,-108.88 407.94,-101.7 397.37,-102.46 400.15,-108.88\"/>\n</g>\n<!-- Second -->\n<g id=\"node7\" class=\"node\">\n<title>Second</title>\n<ellipse fill=\"none\" stroke=\"black\" cx=\"509.55\" cy=\"-90\" rx=\"36.29\" ry=\"18\"/>\n<text text-anchor=\"middle\" x=\"509.55\" y=\"-86.3\" font-family=\"Times,serif\" font-size=\"14.00\">Second</text>\n</g>\n<!-- Coach&#45;&gt;Second -->\n<g id=\"edge13\" class=\"edge\">\n<title>Coach&#45;&gt;Second</title>\n<path fill=\"none\" stroke=\"black\" d=\"M184.88,-157.59C242.03,-151.11 364.32,-135.17 464.55,-108 467.18,-107.29 469.87,-106.48 472.56,-105.61\"/>\n<polygon fill=\"black\" stroke=\"black\" points=\"473.91,-108.85 482.22,-102.28 471.62,-102.23 473.91,-108.85\"/>\n</g>\n<!-- Short -->\n<g id=\"node8\" class=\"node\">\n<title>Short</title>\n<ellipse fill=\"none\" stroke=\"black\" cx=\"593.55\" cy=\"-90\" rx=\"29.8\" ry=\"18\"/>\n<text text-anchor=\"middle\" x=\"593.55\" y=\"-86.3\" font-family=\"Times,serif\" font-size=\"14.00\">Short</text>\n</g>\n<!-- Coach&#45;&gt;Short -->\n<g id=\"edge16\" class=\"edge\">\n<title>Coach&#45;&gt;Short</title>\n<path fill=\"none\" stroke=\"black\" d=\"M185.47,-159.77C254.9,-156.5 420.93,-145.13 554.55,-108 556.83,-107.37 559.15,-106.62 561.47,-105.81\"/>\n<polygon fill=\"black\" stroke=\"black\" points=\"562.79,-109.05 570.84,-102.17 560.25,-102.53 562.79,-109.05\"/>\n</g>\n<!-- Third -->\n<g id=\"node9\" class=\"node\">\n<title>Third</title>\n<ellipse fill=\"none\" stroke=\"black\" cx=\"671.55\" cy=\"-90\" rx=\"30.59\" ry=\"18\"/>\n<text text-anchor=\"middle\" x=\"671.55\" y=\"-86.3\" font-family=\"Times,serif\" font-size=\"14.00\">Third</text>\n</g>\n<!-- Coach&#45;&gt;Third -->\n<g id=\"edge19\" class=\"edge\">\n<title>Coach&#45;&gt;Third</title>\n<path fill=\"none\" stroke=\"black\" d=\"M185.77,-160.74C264.65,-159.4 468.91,-151.62 632.55,-108 634.84,-107.39 637.16,-106.67 639.48,-105.87\"/>\n<polygon fill=\"black\" stroke=\"black\" points=\"640.79,-109.11 648.86,-102.25 638.27,-102.58 640.79,-109.11\"/>\n</g>\n<!-- Right&#45;&gt;Home -->\n<g id=\"edge2\" class=\"edge\">\n<title>Right&#45;&gt;Home</title>\n<path fill=\"none\" stroke=\"black\" d=\"M51.8,-76.81C71.15,-65.7 99.96,-49.17 121.82,-36.63\"/>\n<polygon fill=\"black\" stroke=\"black\" points=\"123.79,-39.54 130.72,-31.52 120.3,-33.47 123.79,-39.54\"/>\n</g>\n<!-- Home&#45;&gt;Coach -->\n<g id=\"edge3\" class=\"edge\">\n<title>Home&#45;&gt;Coach</title>\n<path fill=\"none\" stroke=\"black\" d=\"M132.04,-32.01C116.17,-56.3 114.57,-108.75 127.21,-138.75\"/>\n<polygon fill=\"black\" stroke=\"black\" points=\"124.11,-140.37 131.82,-147.64 130.32,-137.15 124.11,-140.37\"/>\n</g>\n<!-- Home&#45;&gt;Coach -->\n<g id=\"edge6\" class=\"edge\">\n<title>Home&#45;&gt;Coach</title>\n<path fill=\"none\" stroke=\"black\" d=\"M139.23,-34.81C130.99,-59.16 130.1,-106.1 136.54,-135.36\"/>\n<polygon fill=\"black\" stroke=\"black\" points=\"133.24,-136.54 139.25,-145.26 139.99,-134.69 133.24,-136.54\"/>\n</g>\n<!-- Home&#45;&gt;Coach -->\n<g id=\"edge9\" class=\"edge\">\n<title>Home&#45;&gt;Coach</title>\n<path fill=\"none\" stroke=\"black\" d=\"M148,-35.82C145.4,-60.05 145.1,-105 147.11,-133.93\"/>\n<polygon fill=\"black\" stroke=\"black\" points=\"143.65,-134.49 147.99,-144.15 150.62,-133.89 143.65,-134.49\"/>\n</g>\n<!-- Home&#45;&gt;Coach -->\n<g id=\"edge12\" class=\"edge\">\n<title>Home&#45;&gt;Coach</title>\n<path fill=\"none\" stroke=\"black\" d=\"M157.1,-35.82C159.7,-60.05 159.99,-105 157.98,-133.93\"/>\n<polygon fill=\"black\" stroke=\"black\" points=\"154.47,-133.89 157.1,-144.15 161.45,-134.49 154.47,-133.89\"/>\n</g>\n<!-- Home&#45;&gt;Coach -->\n<g id=\"edge15\" class=\"edge\">\n<title>Home&#45;&gt;Coach</title>\n<path fill=\"none\" stroke=\"black\" d=\"M165.87,-34.81C174.1,-59.16 175,-106.1 168.55,-135.36\"/>\n<polygon fill=\"black\" stroke=\"black\" points=\"165.11,-134.69 165.85,-145.26 171.86,-136.54 165.11,-134.69\"/>\n</g>\n<!-- Home&#45;&gt;Coach -->\n<g id=\"edge18\" class=\"edge\">\n<title>Home&#45;&gt;Coach</title>\n<path fill=\"none\" stroke=\"black\" d=\"M173.06,-32.01C188.92,-56.3 190.53,-108.75 177.88,-138.75\"/>\n<polygon fill=\"black\" stroke=\"black\" points=\"174.77,-137.15 173.28,-147.64 180.99,-140.37 174.77,-137.15\"/>\n</g>\n<!-- Home&#45;&gt;Coach -->\n<g id=\"edge21\" class=\"edge\">\n<title>Home&#45;&gt;Coach</title>\n<path fill=\"none\" stroke=\"black\" d=\"M178.27,-29.03C204.29,-52.69 206.72,-112.24 185.56,-142.59\"/>\n<polygon fill=\"black\" stroke=\"black\" points=\"182.79,-140.45 178.96,-150.33 188.11,-144.99 182.79,-140.45\"/>\n</g>\n<!-- Center&#45;&gt;Home -->\n<g id=\"edge5\" class=\"edge\">\n<title>Center&#45;&gt;Home</title>\n<path fill=\"none\" stroke=\"black\" d=\"M254.91,-76.32C234.97,-65.15 205.72,-48.78 183.6,-36.39\"/>\n<polygon fill=\"black\" stroke=\"black\" points=\"185.03,-33.18 174.6,-31.35 181.61,-39.29 185.03,-33.18\"/>\n</g>\n<!-- Left&#45;&gt;Home -->\n<g id=\"edge8\" class=\"edge\">\n<title>Left&#45;&gt;Home</title>\n<path fill=\"none\" stroke=\"black\" d=\"M335.44,-78.45C330.6,-76.19 325.44,-73.92 320.55,-72 276.88,-54.89 225.24,-39.26 190.85,-29.48\"/>\n<polygon fill=\"black\" stroke=\"black\" points=\"191.77,-26.1 181.19,-26.75 189.87,-32.84 191.77,-26.1\"/>\n</g>\n<!-- First&#45;&gt;Home -->\n<g id=\"edge11\" class=\"edge\">\n<title>First&#45;&gt;Home</title>\n<path fill=\"none\" stroke=\"black\" d=\"M407.94,-78.3C402.98,-76 397.65,-73.74 392.55,-72 324.65,-48.8 242.39,-33.21 193.94,-25.24\"/>\n<polygon fill=\"black\" stroke=\"black\" points=\"194.27,-21.75 183.84,-23.61 193.16,-28.66 194.27,-21.75\"/>\n</g>\n<!-- Second&#45;&gt;Home -->\n<g id=\"edge14\" class=\"edge\">\n<title>Second&#45;&gt;Home</title>\n<path fill=\"none\" stroke=\"black\" d=\"M482.22,-77.72C476.45,-75.61 470.35,-73.57 464.55,-72 369.75,-46.3 255.21,-30.65 194.72,-23.54\"/>\n<polygon fill=\"black\" stroke=\"black\" points=\"194.76,-20.03 184.43,-22.36 193.96,-26.98 194.76,-20.03\"/>\n</g>\n<!-- Short&#45;&gt;Home -->\n<g id=\"edge17\" class=\"edge\">\n<title>Short&#45;&gt;Home</title>\n<path fill=\"none\" stroke=\"black\" d=\"M570.84,-77.83C565.59,-75.61 559.96,-73.5 554.55,-72 426.87,-36.52 269.6,-24.56 195.29,-20.72\"/>\n<polygon fill=\"black\" stroke=\"black\" points=\"195.1,-17.2 184.94,-20.21 194.76,-24.19 195.1,-17.2\"/>\n</g>\n<!-- Third&#45;&gt;Home -->\n<g id=\"edge20\" class=\"edge\">\n<title>Third&#45;&gt;Home</title>\n<path fill=\"none\" stroke=\"black\" d=\"M648.86,-77.75C643.61,-75.53 637.97,-73.45 632.55,-72 475.07,-30.02 279.98,-21.23 195.2,-19.44\"/>\n<polygon fill=\"black\" stroke=\"black\" points=\"195.25,-15.94 185.18,-19.25 195.11,-22.94 195.25,-15.94\"/>\n</g>\n</g>\n</svg>\n"
          },
          "metadata": {},
          "execution_count": 15
        }
      ]
    },
    {
      "cell_type": "markdown",
      "source": [
        "###(b) Visualize your structure using graphviz package."
      ],
      "metadata": {
        "id": "3HZ1m8lCRjzL"
      }
    },
    {
      "cell_type": "markdown",
      "source": [
        "This may look really confusing, but in short this is the last warmup before a game starts where the coach will hit one ball to every player on the field, minus the pitcher who is in the bullpen, and they throw it back to the catcher who gives it back to the coach and it repeats until only the catcher is left."
      ],
      "metadata": {
        "id": "UsqjqO4kQvp4"
      }
    },
    {
      "cell_type": "markdown",
      "source": [
        "###(c) Describe a path in your structure."
      ],
      "metadata": {
        "id": "CjyuQD9dRWTi"
      }
    },
    {
      "cell_type": "markdown",
      "source": [
        "One path in my structure is the **Coach** hitting the ball to the **Right Fielder** who throws it to the **Catcher** who then hands it to the **Coach**"
      ],
      "metadata": {
        "id": "dr6QTTTmRwd3"
      }
    },
    {
      "cell_type": "markdown",
      "source": [
        "###(d) Describe the degree of a vertex.\n"
      ],
      "metadata": {
        "id": "cEnjMAvxSRid"
      }
    },
    {
      "cell_type": "markdown",
      "source": [
        "The degree for **Coach** is **eight** because there is a edge that directly goes to each of the other nodes from it."
      ],
      "metadata": {
        "id": "IWJ78-8ESboh"
      }
    },
    {
      "cell_type": "markdown",
      "source": [
        "###(e) Describe a cycle in your structure if it exists. If a cycle does not exist, explain how you know."
      ],
      "metadata": {
        "id": "w35OnlBSS84X"
      }
    },
    {
      "cell_type": "markdown",
      "source": [
        "A cycle that exists in my structure involves the **Coach** hitting the ball to a different postion on the field, who then throws the ball back to the **Catcher**, who then hands the ball back to the **Coach**. This cycle continues until only the **Catcher** remains, and then the **Catcher** keeps the ball."
      ],
      "metadata": {
        "id": "Xt1hMvAlTBY8"
      }
    },
    {
      "cell_type": "markdown",
      "source": [
        "What I discoverd is that it is really easy to show how something flows through the use of a graph.\n",
        "\n",
        "The story is from when I played baseball in high school, and was the catcher. I was the one who stayed on the field the longest, and had the ball more than any other player on the field. I also know what it is like to get the ball from the other postions too, because I have played every postion possible on a baseball field."
      ],
      "metadata": {
        "id": "VrpGOiXQTllx"
      }
    }
  ]
}