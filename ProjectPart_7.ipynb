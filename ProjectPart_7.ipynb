{
  "nbformat": 4,
  "nbformat_minor": 0,
  "metadata": {
    "colab": {
      "provenance": [],
      "authorship_tag": "ABX9TyPDFRWNjlXXn9pvfbko0tIw",
      "include_colab_link": true
    },
    "kernelspec": {
      "name": "python3",
      "display_name": "Python 3"
    },
    "language_info": {
      "name": "python"
    }
  },
  "cells": [
    {
      "cell_type": "markdown",
      "metadata": {
        "id": "view-in-github",
        "colab_type": "text"
      },
      "source": [
        "<a href=\"https://colab.research.google.com/github/Jake7Harvey/CPSMA/blob/main/ProjectPart_7.ipynb\" target=\"_parent\"><img src=\"https://colab.research.google.com/assets/colab-badge.svg\" alt=\"Open In Colab\"/></a>"
      ]
    },
    {
      "cell_type": "markdown",
      "source": [
        "#Project Module #7: CPSMA-3913-01\n",
        "##Dr Matthew Lynam\n",
        "###Logic\n",
        "###Jake Harvey 0273045"
      ],
      "metadata": {
        "id": "2RF8tbC0726l"
      }
    },
    {
      "cell_type": "markdown",
      "source": [
        "![Pro7.jpg](data:image/jpeg;base64,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)"
      ],
      "metadata": {
        "id": "Nxu4Stnk9Ll6"
      }
    },
    {
      "cell_type": "markdown",
      "source": [
        "I thought this picture would look better than it does, oops"
      ],
      "metadata": {
        "id": "qMSnGAqc90wr"
      }
    },
    {
      "cell_type": "markdown",
      "source": [
        "##1. Create a truth table"
      ],
      "metadata": {
        "id": "HkbjE2uX8hjY"
      }
    },
    {
      "cell_type": "markdown",
      "source": [
        "###(a) Create three propositions. I will describe them as p, r and q but you should use the name to describe the proposition! Discuss the truth value of each of these and decide on one that makes sense for you."
      ],
      "metadata": {
        "id": "-2FaYsXK8jym"
      }
    },
    {
      "cell_type": "markdown",
      "source": [
        "With the weather that is coming in, I thought I would try and make something that goes along with it"
      ],
      "metadata": {
        "id": "q4yIOpCt-GzP"
      }
    },
    {
      "cell_type": "markdown",
      "source": [
        "**p: It is raining outside**\n",
        "\n",
        "**q: I will bring an umbrella**\n",
        "\n",
        "**r: I will wear a coat**"
      ],
      "metadata": {
        "id": "PE4OUaxK-UXR"
      }
    },
    {
      "cell_type": "markdown",
      "source": [
        "Oklahoma's weather has always been unpredictable, it's snowing one minute then it's as hot as mid summer and then tornadoes come out of nowhere. There really is no telling what will happen next."
      ],
      "metadata": {
        "id": "Y--rb1dV-5Y0"
      }
    },
    {
      "cell_type": "markdown",
      "source": [
        "###(b) Compute the truth of the statement r ∧ p, r ∨ ¬q and r ⇒ p."
      ],
      "metadata": {
        "id": "IO1Aedv_8rqc"
      }
    },
    {
      "cell_type": "markdown",
      "source": [
        "###**r ∧ p**"
      ],
      "metadata": {
        "id": "j4KetW8lAMkW"
      }
    },
    {
      "cell_type": "markdown",
      "source": [
        "**r ∧ p** is a conjuction, **and**, kinda like the song *Conjuncton Junction* by *Schoolhouse Rock*"
      ],
      "metadata": {
        "id": "0ubb2sFRNxBl"
      }
    },
    {
      "cell_type": "code",
      "source": [
        "def conjuction(r, p):\n",
        "  return r and p\n",
        "  print(\"r   p   x\")\n",
        "for r in [True, False]:\n",
        "  for p in [True, False]:\n",
        "    x = conjuction(r, p)\n",
        "    print(r, p, x)"
      ],
      "metadata": {
        "colab": {
          "base_uri": "https://localhost:8080/"
        },
        "id": "LWFPyKxcAX31",
        "outputId": "93134d99-ae09-49b2-f6aa-8abfefe1e433"
      },
      "execution_count": 14,
      "outputs": [
        {
          "output_type": "stream",
          "name": "stdout",
          "text": [
            "True True True\n",
            "True False False\n",
            "False True False\n",
            "False False False\n"
          ]
        }
      ]
    },
    {
      "cell_type": "markdown",
      "source": [
        "###**r ∨ ¬q**"
      ],
      "metadata": {
        "id": "_vzhX2YtCimy"
      }
    },
    {
      "cell_type": "markdown",
      "source": [
        "**r ∨ ¬q** is tautology, a very funny looking word, which means it will always be true whether it is false or not"
      ],
      "metadata": {
        "id": "lXjcCHpMOtPn"
      }
    },
    {
      "cell_type": "code",
      "source": [
        "def taughtology(r, q, x):\n",
        "  return(r or q) and not (r and q)\n",
        "  print(\"r   q   a\")\n",
        "for r in [True]:\n",
        "  for q in [False]:\n",
        "    x = taughtology(r, q, x)\n",
        "    print(r, q, x)\n",
        "\n",
        "def taughtology(r, q, x):\n",
        "  return(r or q) and not (r and q)\n",
        "  print(\"r   q   a\")\n",
        "for r in [False]:\n",
        "  for q in [True]:\n",
        "    x = taughtology(r, q, x)\n",
        "    print(r, q, x)"
      ],
      "metadata": {
        "colab": {
          "base_uri": "https://localhost:8080/"
        },
        "id": "QQgT4JNJCrNS",
        "outputId": "acbe9c82-d26b-412c-c3fe-179c6824ed99"
      },
      "execution_count": 18,
      "outputs": [
        {
          "output_type": "stream",
          "name": "stdout",
          "text": [
            "True False True\n",
            "False True True\n"
          ]
        }
      ]
    },
    {
      "cell_type": "markdown",
      "source": [
        "###**r ⇒ p**"
      ],
      "metadata": {
        "id": "Gz65XCtjCr1b"
      }
    },
    {
      "cell_type": "markdown",
      "source": [
        "**r ⇒ p** is an implication, better known as an **if then** statement"
      ],
      "metadata": {
        "id": "aEYRA2rOPkx9"
      }
    },
    {
      "cell_type": "code",
      "source": [
        "def implication(r, p):\n",
        "  return not (r) or p\n",
        "  print(\"r   p  x\")\n",
        "for r in [True, False]:\n",
        "  for p in [True, False]:\n",
        "    x = implication(r, p)\n",
        "    print(r, p, x)\n"
      ],
      "metadata": {
        "colab": {
          "base_uri": "https://localhost:8080/"
        },
        "id": "2cDzewgQCzR7",
        "outputId": "0bf2fabd-2b62-4237-c990-d6559a1d5ed6"
      },
      "execution_count": 20,
      "outputs": [
        {
          "output_type": "stream",
          "name": "stdout",
          "text": [
            "True True True\n",
            "True False False\n",
            "False True True\n",
            "False False True\n"
          ]
        }
      ]
    },
    {
      "cell_type": "markdown",
      "source": [
        "###(c) Compute a complete truth table for ¬ (r ⊕ p) ⇒ (p ∨ q)"
      ],
      "metadata": {
        "id": "7aUYeK9Q8taY"
      }
    },
    {
      "cell_type": "code",
      "source": [
        "import itertools\n",
        "logic = [(True, False), (True, False), (True, False)]\n",
        "for combo in itertools.product(*logic):\n",
        "  p, q, r = combo\n",
        "  rp = r and p\n",
        "  rnotq = r or not q\n",
        "  rimpliesq = not r or p\n",
        "  rxorp = r ^ p\n",
        "  notrxorp = not rxorp\n",
        "  notrxorpimpliesporq = not notrxorp or p or q\n",
        "  print(p, q, r, p or q, rxorp, notrxorp, notrxorpimpliesporq)\n"
      ],
      "metadata": {
        "colab": {
          "base_uri": "https://localhost:8080/"
        },
        "id": "j3yD5eUOK7Ok",
        "outputId": "58eea962-c54a-4e7b-df41-99301913fd39"
      },
      "execution_count": 24,
      "outputs": [
        {
          "output_type": "stream",
          "name": "stdout",
          "text": [
            "True True True True False True True\n",
            "True True False True True False True\n",
            "True False True True False True True\n",
            "True False False True True False True\n",
            "False True True True True False True\n",
            "False True False True False True True\n",
            "False False True False True False True\n",
            "False False False False False True False\n"
          ]
        }
      ]
    },
    {
      "cell_type": "markdown",
      "source": [
        "The code looks a little messy, and it felt like I was answering Jeopardy questions throughout this project"
      ],
      "metadata": {
        "id": "9IC9te6XNElL"
      }
    },
    {
      "cell_type": "markdown",
      "source": [
        "This project was confusing, and the wording can mess you up if you are just a little bit off. Once I got the hang of it, the project was kinda fun. It made me feel like I was back in fifth grade english though with the way somethings were described"
      ],
      "metadata": {
        "id": "wMw-wAiEQDtR"
      }
    }
  ]
}