{
  "nbformat": 4,
  "nbformat_minor": 0,
  "metadata": {
    "colab": {
      "provenance": [],
      "authorship_tag": "ABX9TyPtJh2j+zzTJ564bxZQkxhn",
      "include_colab_link": true
    },
    "kernelspec": {
      "name": "python3",
      "display_name": "Python 3"
    },
    "language_info": {
      "name": "python"
    }
  },
  "cells": [
    {
      "cell_type": "markdown",
      "metadata": {
        "id": "view-in-github",
        "colab_type": "text"
      },
      "source": [
        "<a href=\"https://colab.research.google.com/github/Jake7Harvey/CPSMA/blob/main/ProjectPart_8.ipynb\" target=\"_parent\"><img src=\"https://colab.research.google.com/assets/colab-badge.svg\" alt=\"Open In Colab\"/></a>"
      ]
    },
    {
      "cell_type": "markdown",
      "source": [
        "#Project Module #8: CPSMA-3913-01\n",
        "##Dr Matthew Lynam\n",
        "###Proof\n",
        "###Jake Harvey 0273045"
      ],
      "metadata": {
        "id": "vMTkWQm46t87"
      }
    },
    {
      "cell_type": "markdown",
      "source": [
        "##1. Typeset a small proof"
      ],
      "metadata": {
        "id": "-nqeeKNZ64Py"
      }
    },
    {
      "cell_type": "markdown",
      "source": [
        "###(a) Create a linear equation y = mx+b by assigning non-zero values to m and b. Graph this function."
      ],
      "metadata": {
        "id": "sdTidCBr69jE"
      }
    },
    {
      "cell_type": "markdown",
      "source": [
        "The linear equation I am creating is $y=0.5x+2$\n",
        "\n",
        "Here is the graph for it"
      ],
      "metadata": {
        "id": "n5F173BK7daU"
      }
    },
    {
      "cell_type": "code",
      "source": [
        "import matplotlib.pyplot as plt \n",
        "import numpy as np\n",
        "from sympy import *\n",
        "x = symbols('x')\n",
        "y = symbols('y')\n",
        "\n",
        "x = np.arange(0,3,.1)\n",
        "plt.plot(x,x*0.5+2)\n",
        "plt.scatter(0,2, c='blue', s = 40)\n",
        "plt.scatter(2,3, c='purple', s = 40)\n",
        "plt.show()"
      ],
      "metadata": {
        "colab": {
          "base_uri": "https://localhost:8080/",
          "height": 265
        },
        "id": "FnkgJToY8-jQ",
        "outputId": "5fbb96d3-1499-42a0-8cc8-16219f37faa8"
      },
      "execution_count": 5,
      "outputs": [
        {
          "output_type": "display_data",
          "data": {
            "text/plain": [
              "<Figure size 432x288 with 1 Axes>"
            ],
            "image/png": "[encoded data removed]"
          },
          "metadata": {
            "needs_background": "light"
          }
        }
      ]
    },
    {
      "cell_type": "markdown",
      "source": [
        "The graph shows that the y-intercept is **(0,2)**, and if you were to expand the grapgh you would see that the x-intercept is **(-4,0)**"
      ],
      "metadata": {
        "id": "KRDSeixKB656"
      }
    },
    {
      "cell_type": "markdown",
      "source": [
        "###(b) Write a proof of the statement (0, b) is the y-intercept for the function y = mx + b"
      ],
      "metadata": {
        "id": "2uiqR8SY7BU7"
      }
    },
    {
      "cell_type": "markdown",
      "source": [
        "When looking at a graph it is easy to see what the y-intercept is, but proofing it can sometimes be more difficult. An easy way to solve this is to plug **0** in for **x**, and solve for **y**."
      ],
      "metadata": {
        "id": "wLSjWgZLCV3Y"
      }
    },
    {
      "cell_type": "code",
      "source": [
        "y=0.5*0+2\n",
        "y"
      ],
      "metadata": {
        "colab": {
          "base_uri": "https://localhost:8080/"
        },
        "id": "SUrnz7bsCvxr",
        "outputId": "b71fd5bf-6438-4583-ff88-9ddff096d85e"
      },
      "execution_count": 9,
      "outputs": [
        {
          "output_type": "execute_result",
          "data": {
            "text/plain": [
              "2.0"
            ]
          },
          "metadata": {},
          "execution_count": 9
        }
      ]
    },
    {
      "cell_type": "markdown",
      "source": [
        "You would solve this problem in a normal style, $y=0.5*0+2 -> y=2$\n",
        "\n",
        "Proving this, you would plug the answer **2** in for **y** and set it equal to **$0.5*0+2$**\n",
        "\n",
        "**$2=0.5*0+2$**"
      ],
      "metadata": {
        "id": "Pul0q5-yDTBJ"
      }
    },
    {
      "cell_type": "code",
      "source": [
        "2 == 0.5*0+2"
      ],
      "metadata": {
        "colab": {
          "base_uri": "https://localhost:8080/"
        },
        "id": "0ju8PmDKEOie",
        "outputId": "a149862e-1e3c-4fa3-cfd4-3873201512e6"
      },
      "execution_count": 10,
      "outputs": [
        {
          "output_type": "execute_result",
          "data": {
            "text/plain": [
              "True"
            ]
          },
          "metadata": {},
          "execution_count": 10
        }
      ]
    },
    {
      "cell_type": "markdown",
      "source": [
        "This proves that it is true, and **2** is where the y-intercept sits"
      ],
      "metadata": {
        "id": "3l5NmZLHEfFw"
      }
    }
  ]
}