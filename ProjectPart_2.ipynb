{
  "nbformat": 4,
  "nbformat_minor": 0,
  "metadata": {
    "colab": {
      "provenance": [],
      "authorship_tag": "ABX9TyM8bLB/9KSAhfDeM2Q+CaAH",
      "include_colab_link": true
    },
    "kernelspec": {
      "name": "python3",
      "display_name": "Python 3"
    },
    "language_info": {
      "name": "python"
    }
  },
  "cells": [
    {
      "cell_type": "markdown",
      "metadata": {
        "id": "view-in-github",
        "colab_type": "text"
      },
      "source": [
        "<a href=\"https://colab.research.google.com/github/Jake7Harvey/CPSMA/blob/main/ProjectPart_2.ipynb\" target=\"_parent\"><img src=\"https://colab.research.google.com/assets/colab-badge.svg\" alt=\"Open In Colab\"/></a>"
      ]
    },
    {
      "cell_type": "markdown",
      "source": [
        "#Project Module #2: CPSMA-3913-01\n",
        "##Dr Matthew Lynam\n",
        "###Functions and Relations\n",
        "###Jake Harvey 0273045"
      ],
      "metadata": {
        "id": "CqnQNNeh_zvf"
      }
    },
    {
      "cell_type": "markdown",
      "source": [
        "I am going to try to understand the code a tad bit better this week and have a better project."
      ],
      "metadata": {
        "id": "6h1W-OmUL_hb"
      }
    },
    {
      "cell_type": "markdown",
      "source": [
        "####1. Define a function and graph it"
      ],
      "metadata": {
        "id": "gBBbYUXeAasg"
      }
    },
    {
      "cell_type": "markdown",
      "source": [
        "####A.)"
      ],
      "metadata": {
        "id": "x45Oxdo5OJwF"
      }
    },
    {
      "cell_type": "markdown",
      "source": [
        "My function looks like this. It is an inverted parabola that has a y-intercept at 4 and also has two x-intercepts.\n",
        "$$\n",
        "f(x) = -2x^2+3.5x+4\n",
        "$$"
      ],
      "metadata": {
        "id": "FjgizvEwAjap"
      }
    },
    {
      "cell_type": "code",
      "source": [
        "import math\n",
        "import numpy as np\n",
        "import matplotlib.pyplot as plt\n",
        "\n",
        "def quadraticfunction(x):\n",
        "  return (-2*x**2)+3.5*x+4\n",
        "\n",
        "quadraticfunction (0)\n"
      ],
      "metadata": {
        "colab": {
          "base_uri": "https://localhost:8080/"
        },
        "id": "4omd12AQIYE5",
        "outputId": "65d1e93a-bdf6-4d13-9107-c986e0cd2023"
      },
      "execution_count": null,
      "outputs": [
        {
          "output_type": "execute_result",
          "data": {
            "text/plain": [
              "4.0"
            ]
          },
          "metadata": {},
          "execution_count": 9
        }
      ]
    },
    {
      "cell_type": "markdown",
      "source": [
        "I got an output of 4.0"
      ],
      "metadata": {
        "id": "u5Wu4jeTN_pl"
      }
    },
    {
      "cell_type": "markdown",
      "source": [
        "####B.)"
      ],
      "metadata": {
        "id": "dAL2aH0lONgK"
      }
    },
    {
      "cell_type": "markdown",
      "source": [
        "Here is my graph, the scaling and graph is a little off but the shape is right."
      ],
      "metadata": {
        "id": "qMYr8oDFOQ36"
      }
    },
    {
      "cell_type": "code",
      "source": [
        "import matplotlib.pyplot as plt\n",
        "x = np.arange(-5,5.1,.5)\n",
        "\n",
        "plt.plot(x,quadraticfunction(x))"
      ],
      "metadata": {
        "colab": {
          "base_uri": "https://localhost:8080/",
          "height": 282
        },
        "id": "FaZL_0qaK46M",
        "outputId": "3012b5e4-df14-4534-cd6a-5dad7723b5df"
      },
      "execution_count": null,
      "outputs": [
        {
          "output_type": "execute_result",
          "data": {
            "text/plain": [
              "[<matplotlib.lines.Line2D at 0x7fb2e75761c0>]"
            ]
          },
          "metadata": {},
          "execution_count": 15
        },
        {
          "output_type": "display_data",
          "data": {
            "text/plain": [
              "<Figure size 432x288 with 1 Axes>"
            ],
            "image/png": "[encoded data removed]"
          },
          "metadata": {
            "needs_background": "light"
          }
        }
      ]
    },
    {
      "cell_type": "markdown",
      "source": [
        "####2. Define a dictionary"
      ],
      "metadata": {
        "id": "ansv7YutO9TC"
      }
    },
    {
      "cell_type": "markdown",
      "source": [
        "####A.)"
      ],
      "metadata": {
        "id": "1Y9Ns8tcUJIP"
      }
    },
    {
      "cell_type": "markdown",
      "source": [
        "I will create a dictionary based off of fish.\n",
        "\n",
        "***A*** is predator fish\n",
        "\n",
        "***B*** is prey fish"
      ],
      "metadata": {
        "id": "QOaJ6ZG7PaHo"
      }
    },
    {
      "cell_type": "code",
      "source": [
        "Predator = ['Pike', 'Great White', 'Flathead', 'Barracuda', 'Goliath Grouper']\n",
        "Prey = ['Perch', 'Minnows', 'Goldfish', 'Shad', 'White Suckerfish']\n",
        "\n",
        "dictionary = dict({Predator:Prey for Predator,Prey in zip(Predator, Prey)})"
      ],
      "metadata": {
        "id": "GUqY-SnkPPcQ"
      },
      "execution_count": null,
      "outputs": []
    },
    {
      "cell_type": "code",
      "source": [
        "dictionary"
      ],
      "metadata": {
        "colab": {
          "base_uri": "https://localhost:8080/"
        },
        "id": "IOojo-QKThzv",
        "outputId": "7952e7a1-1567-416c-fb10-de1cbcf5c3a7"
      },
      "execution_count": null,
      "outputs": [
        {
          "output_type": "execute_result",
          "data": {
            "text/plain": [
              "{'Pike': 'Perch',\n",
              " 'Great White': 'Minnows',\n",
              " 'Flathead': 'Goldfish',\n",
              " 'Barracuda': 'Shad',\n",
              " 'Goliath Grouper': 'White Suckerfish'}"
            ]
          },
          "metadata": {},
          "execution_count": 18
        }
      ]
    },
    {
      "cell_type": "markdown",
      "source": [
        "####B.)"
      ],
      "metadata": {
        "id": "e1UZqG5BUNXy"
      }
    },
    {
      "cell_type": "markdown",
      "source": [
        "Now I will apply the dictonary to a small set."
      ],
      "metadata": {
        "id": "_1wkZObCURLG"
      }
    },
    {
      "cell_type": "code",
      "source": [
        "actualDictionary = dict({'Pike':'Barracuda', 'Goliath Grouper':'Great White'})"
      ],
      "metadata": {
        "id": "nhqT6ksBUaRL"
      },
      "execution_count": null,
      "outputs": []
    },
    {
      "cell_type": "code",
      "source": [
        "secondlist = [actualDictionary.get(x,x) for x in Predator]"
      ],
      "metadata": {
        "id": "XgD_tT1iVCJb"
      },
      "execution_count": null,
      "outputs": []
    },
    {
      "cell_type": "code",
      "source": [
        "secondlist"
      ],
      "metadata": {
        "colab": {
          "base_uri": "https://localhost:8080/"
        },
        "id": "uQDWihsZVRuT",
        "outputId": "e5ebe4f9-7d34-401d-c333-99dd1fe82633"
      },
      "execution_count": null,
      "outputs": [
        {
          "output_type": "execute_result",
          "data": {
            "text/plain": [
              "['Barracuda', 'Great White', 'Flathead', 'Barracuda', 'Great White']"
            ]
          },
          "metadata": {},
          "execution_count": 27
        }
      ]
    },
    {
      "cell_type": "markdown",
      "source": [
        "My dictionary is symmetric, and it could be a equivalence relation."
      ],
      "metadata": {
        "id": "YKChifTEXiNx"
      }
    },
    {
      "cell_type": "markdown",
      "source": [
        "I have discoverd that dictionaries and functions are pretty simple to understand after attempting them, and I now also understand that they are both very useful if you need to do reports and have to have them done in a certain amount of time.\n",
        "\n",
        "My function is  one -to-one and unto, and it is already bijective.\n",
        "\n",
        "There are 32 relations possible, becase $2^5=32$."
      ],
      "metadata": {
        "id": "ZZE_sh6jYIR0"
      }
    }
  ]
}